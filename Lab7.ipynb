{
  "cells": [
    {
      "cell_type": "markdown",
      "metadata": {},
      "source": [
        "Lab 7 Tasks: https://drive.google.com/file/d/1mG061cEBoChBOLxqmFbj_Fy2EZ9Qysar/view"
      ]
    },
    {
      "cell_type": "code",
      "execution_count": null,
      "metadata": {
        "colab": {
          "base_uri": "https://localhost:8080/"
        },
        "id": "iv_wQqWUkEJy",
        "outputId": "d8e15261-ae8b-4abe-f1c5-8b6876a4cab8"
      },
      "outputs": [
        {
          "name": "stdout",
          "output_type": "stream",
          "text": [
            "Name: Default Department: BBA\n",
            "Name: Humpty Dumpty Department: BBA\n",
            "Name: Little Bo Peep Department: BBA\n"
          ]
        }
      ],
      "source": [
        "#Task 1\n",
        "\n",
        "class Student:\n",
        "    def __init__(self, name='Just a student', dept='nothing'):\n",
        "        self.__name = name\n",
        "        self.__department = dept\n",
        "    def set_department(self, dept):\n",
        "        self.__department = dept\n",
        "    def get_name(self):\n",
        "        return self.__name\n",
        "    def set_name(self,name):\n",
        "        self.__name = name\n",
        "    def __str__(self):\n",
        "        return 'Name: '+self.__name+' Department: '+self.__department\n",
        "#write your code here\n",
        "class BBA_Student(Student):\n",
        "    def __init__(self,name=\"Default\",dept=\"BBA\"):\n",
        "        super().__init__(name,dept)\n",
        "\n",
        "print(BBA_Student())\n",
        "print(BBA_Student('Humpty Dumpty'))\n",
        "print(BBA_Student('Little Bo Peep'))\n"
      ]
    },
    {
      "cell_type": "code",
      "execution_count": null,
      "metadata": {
        "colab": {
          "base_uri": "https://localhost:8080/"
        },
        "id": "IAwimtktkNBW",
        "outputId": "0c1aca33-3497-4630-e324-4eac94b454fd"
      },
      "outputs": [
        {
          "name": "stdout",
          "output_type": "stream",
          "text": [
            "Part 1\n",
            "------\n",
            "(0 , 0)\n",
            "(0 , 1)\n",
            "(-1 , 1)\n",
            "(-1 , 0)\n",
            "(0 , 0)\n",
            "------\n",
            "Part 2\n",
            "------\n",
            "(0 , 0)\n",
            "(-1 , -1)\n",
            "False\n",
            "True\n"
          ]
        }
      ],
      "source": [
        "#Task2\n",
        "\n",
        "class Vehicle:\n",
        "    def __init__(self):\n",
        "        self.x = 0\n",
        "        self.y = 0\n",
        "    def moveUp(self):\n",
        "        self.y+=1\n",
        "    def moveDown(self):\n",
        "        self.y-=1\n",
        "    def moveRight(self):\n",
        "        self.x+=1\n",
        "    def moveLeft(self):\n",
        "        self.x-=1\n",
        "    def __str__(self):\n",
        "        return '('+str(self.x)+' , '+str(self.y)+')'\n",
        "#write your code here\n",
        "class Vehicle2010(Vehicle):\n",
        "    def moveLowerLeft(self):\n",
        "        self.moveDown(),self.moveLeft()\n",
        "    def moveLowerRight(self):\n",
        "        self.moveDown(),self.moveRight()\n",
        "    def moveUpperLeft(self):\n",
        "        self.moveUp(),self.moveLeft()\n",
        "    def moveUpperRight(self):\n",
        "        self.moveUp(),self.moveRight()\n",
        "    def equals(self,other):\n",
        "        return self.x == other.x and self.y == other.y\n",
        "\n",
        "\n",
        "print('Part 1')\n",
        "print('------')\n",
        "car = Vehicle()\n",
        "print(car)\n",
        "car.moveUp()\n",
        "print(car)\n",
        "car.moveLeft()\n",
        "print(car)\n",
        "car.moveDown()\n",
        "print(car)\n",
        "car.moveRight()\n",
        "print(car)\n",
        "print('------')\n",
        "print('Part 2')\n",
        "print('------')\n",
        "car1 = Vehicle2010()\n",
        "print(car1)\n",
        "car1.moveLowerLeft()\n",
        "print(car1)\n",
        "car2 = Vehicle2010()\n",
        "car2.moveLeft()\n",
        "print(car1.equals(car2))\n",
        "car2.moveDown()\n",
        "print(car1.equals(car2))\n"
      ]
    },
    {
      "cell_type": "code",
      "execution_count": null,
      "metadata": {
        "colab": {
          "base_uri": "https://localhost:8080/"
        },
        "id": "lypOyzN8iXBH",
        "outputId": "d191614e-8a3e-4a7f-e1e9-f8741dcafd20"
      },
      "outputs": [
        {
          "name": "stdout",
          "output_type": "stream",
          "text": [
            "Cricket Tournament Name: Default\n",
            "Number of Teams: 0\n",
            "Type: No type\n",
            "-----------------------\n",
            "Cricket Tournament Name: IPL\n",
            "Number of Teams: 10\n",
            "Type: t20\n",
            "-----------------------\n",
            "Tennis Tournament Name: Roland Garros\n",
            "Number of Players: 128\n"
          ]
        }
      ],
      "source": [
        "#Task 3\n",
        "\n",
        "class Tournament:\n",
        "    def __init__(self,name='Default'):\n",
        "        self.__name = name\n",
        "    def set_name(self,name):\n",
        "        self.__name = name\n",
        "    def get_name(self):\n",
        "        return self.__name\n",
        "\n",
        "#write your code here\n",
        "class Cricket_Tournament(Tournament):\n",
        "    def __init__(self,name=\"Default\",teams=\"0\",type=\"No type\"):\n",
        "        super().__init__(name)\n",
        "        self.teams=teams\n",
        "        self.type=type\n",
        "    def detail(self):\n",
        "        return f\"Cricket Tournament Name: {self.get_name()}\\nNumber of Teams: {self.teams}\\nType: {self.type}\"\n",
        "class Tennis_Tournament(Tournament):\n",
        "    def __init__(self,name,players):\n",
        "        super().__init__(name)\n",
        "        self.players=players\n",
        "    def detail(self):\n",
        "        return f\"Tennis Tournament Name: {self.get_name()}\\nNumber of Players: {self.players}\"\n",
        "\n",
        "ct1 = Cricket_Tournament()\n",
        "print(ct1.detail())\n",
        "print(\"-----------------------\")\n",
        "ct2 = Cricket_Tournament(\"IPL\",10,\"t20\")\n",
        "print(ct2.detail())\n",
        "print(\"-----------------------\")\n",
        "tt = Tennis_Tournament(\"Roland Garros\",128)\n",
        "print(tt.detail())\n"
      ]
    },
    {
      "cell_type": "code",
      "execution_count": null,
      "metadata": {
        "colab": {
          "base_uri": "https://localhost:8080/"
        },
        "id": "xB5NFFm8kXqu",
        "outputId": "68fa22ae-13ce-4992-9a48-e1890f0a0862"
      },
      "outputs": [
        {
          "name": "stdout",
          "output_type": "stream",
          "text": [
            "ID: 1 Title:The Alchemist Price: 500\n",
            "ISBN: 97806 Publisher: HarperCollins\n",
            "-----------------------\n",
            "ID: 2 Title:Shotto Price: 300\n",
            "Band: Warfaze Duration: 50\n",
            "Genre: Hard Rock\n"
          ]
        }
      ],
      "source": [
        "#Task4\n",
        "\n",
        "class Product:\n",
        "    def __init__(self,id, title, price):\n",
        "        self.__id = id\n",
        "        self.__title = title\n",
        "        self.__price = price\n",
        "    def get_id_title_price(self):\n",
        "        return \"ID: \"+str(self.__id)+\" Title:\"+self.__title+\" Price: \"+str(self.__price)\n",
        "#write your code here\n",
        "class Book(Product):\n",
        "    def __init__(self,id,title,price,isbn,pub):\n",
        "        super().__init__(id,title,price)\n",
        "        self.isbn=isbn\n",
        "        self.pub=pub\n",
        "    def printDetail(self):\n",
        "        return f\"{self.get_id_title_price()}\\nISBN: {self.isbn} Publisher: {self.pub}\"\n",
        "class CD(Product):\n",
        "    def __init__(self,id,title,price,band,dur,genre):\n",
        "        super().__init__(id,title,price)\n",
        "        self.band=band\n",
        "        self.dur=dur\n",
        "        self.genre=genre\n",
        "    def printDetail(self):\n",
        "        return f\"{self.get_id_title_price()}\\nBand: {self.band} Duration: {self.dur}\\nGenre: {self.genre}\"\n",
        "\n",
        "book = Book(1,\"The Alchemist\",500,\"97806\",\"HarperCollins\")\n",
        "print(book.printDetail())\n",
        "print(\"-----------------------\")\n",
        "cd = CD(2,\"Shotto\",300,\"Warfaze\",50,\"Hard Rock\")\n",
        "print(cd.printDetail())\n"
      ]
    },
    {
      "cell_type": "code",
      "execution_count": null,
      "metadata": {
        "colab": {
          "base_uri": "https://localhost:8080/"
        },
        "id": "vdG-wGMkw268",
        "outputId": "88a7bb78-32ee-4c29-cdde-2e10d4e761c1"
      },
      "outputs": [
        {
          "name": "stdout",
          "output_type": "stream",
          "text": [
            "Animal does not make sound\n",
            "meow\n",
            "bark\n"
          ]
        }
      ],
      "source": [
        "#Task 5\n",
        "\n",
        "class Animal:\n",
        "    def __init__(self, sound):\n",
        "        self.__sound = sound\n",
        "\n",
        "    def makeSound(self):\n",
        "        return self.__sound\n",
        "\n",
        "\n",
        "class Printer:\n",
        "    def printSound(self, a):\n",
        "        print(a.makeSound())\n",
        "        \n",
        "        \n",
        "# write your code here\n",
        "class Dog(Animal):\n",
        "    def __init__(self, sound):\n",
        "        super().__init__(sound)\n",
        "\n",
        "\n",
        "class Cat(Animal):\n",
        "    def __init__(self, sound):\n",
        "        super().__init__(sound)\n",
        "\n",
        "d1 = Dog('bark')\n",
        "c1 = Cat('meow')\n",
        "a1 = Animal('Animal does not make sound')\n",
        "pr = Printer()\n",
        "pr.printSound(a1)\n",
        "pr.printSound(c1)\n",
        "pr.printSound(d1)\n"
      ]
    },
    {
      "cell_type": "code",
      "execution_count": null,
      "metadata": {
        "colab": {
          "base_uri": "https://localhost:8080/"
        },
        "id": "KvRXJ4QzqmNH",
        "outputId": "3bd7e0c3-e08b-48d5-9dfc-77c9e89ce2aa"
      },
      "outputs": [
        {
          "name": "stdout",
          "output_type": "stream",
          "text": [
            "Shape name: Default\n",
            "Height: 0, Base: 0\n",
            "Area: 0.0\n",
            "--------------------------\n",
            "Shape name: Triangle\n",
            "Height: 10, Base: 5\n",
            "Area: 25.0\n",
            "---------------------------\n",
            "Shape name: Trapezoid\n",
            "Height: 10, Base: 6, Side_A: 4\n",
            "Area: 50.0\n"
          ]
        }
      ],
      "source": [
        "#Task 6\n",
        "\n",
        "class Shape:\n",
        "\n",
        "  def __init__(self, name='Default', height=0, base=0):\n",
        "    self.area = 0\n",
        "    self.name = name\n",
        "    self.height = height\n",
        "    self.base = base\n",
        "\n",
        "  def get_height_base(self):\n",
        "    return \"Height: \"+str(self.height)+\", Base: \"+str(self.base)\n",
        "\n",
        "#write your code here\n",
        "class triangle(Shape):\n",
        "  def __init__(self,name=\"Default\",height=0,base=0):\n",
        "    super().__init__(name,height,base)\n",
        "\n",
        "  def calcArea(self):\n",
        "    self.area=0.5*self.base*self.height\n",
        "    return self.area\n",
        "\n",
        "  def printDetail(self):\n",
        "    return f\"Shape name: {self.name}\\n{self.get_height_base()}\\nArea: {self.area}\"\n",
        "\n",
        "class trapezoid(Shape):\n",
        "  def __init__(self,name=\"Default\",height=0,base=0,side=0):\n",
        "    super().__init__(name,height,base)\n",
        "    self.side=side\n",
        "\n",
        "  def calcArea(self):\n",
        "    self.area=0.5*self.height*(self.base+self.side)\n",
        "    return self.area\n",
        "\n",
        "  def printDetail(self):\n",
        "    return f\"Shape name: {self.name}\\n{self.get_height_base()}, Side_A: {self.side}\\nArea: {self.area}\"\n",
        "\n",
        "tri_default = triangle()\n",
        "tri_default.calcArea()\n",
        "print(tri_default.printDetail())\n",
        "print('--------------------------')\n",
        "tri = triangle('Triangle', 10, 5)\n",
        "tri.calcArea()\n",
        "print(tri.printDetail())\n",
        "print('---------------------------')\n",
        "trap = trapezoid('Trapezoid', 10, 6, 4)\n",
        "trap.calcArea()\n",
        "print(trap.printDetail())\n"
      ]
    },
    {
      "cell_type": "code",
      "execution_count": null,
      "metadata": {
        "colab": {
          "base_uri": "https://localhost:8080/"
        },
        "id": "LKjwR4Io3XSG",
        "outputId": "14eeb517-97c5-458e-d24a-87f8bbf31cdc"
      },
      "outputs": [
        {
          "name": "stdout",
          "output_type": "stream",
          "text": [
            "Name: Ronaldo, Team Name: Juventus\n",
            "Team Role: Striker\n",
            "Total Goal: 25, Total Played: 32\n",
            "Goal Ratio: 0.78125\n",
            "Match Earning: 25320K\n",
            "------------------------------------------\n",
            "Name: Zidane, Team Name: Real Madrid\n",
            "Team Role: Manager\n",
            "Total Win: 25\n",
            "Match Earning: 25000K\n"
          ]
        }
      ],
      "source": [
        "#Task 7\n",
        "\n",
        "class Football:\n",
        "\n",
        "  def __init__(self, team_name, name, role):\n",
        "    self.__team = team_name\n",
        "    self.__name = name\n",
        "    self.role = role\n",
        "    self.earning_per_match = 0\n",
        "\n",
        "  def get_name_team(self):\n",
        "    return 'Name: '+self.__name+', Team Name: ' +self.__team\n",
        "\n",
        "#write your code here\n",
        "class Player(Football):\n",
        "  def __init__(self,team_name,name,role,goal,match):\n",
        "    super().__init__(team_name,name,role)\n",
        "    self.goal=goal\n",
        "    self.match=match\n",
        "\n",
        "  def calculate_ratio(self):\n",
        "    self.ratio=self.goal/self.match\n",
        "\n",
        "  def print_details(self):\n",
        "    print(f\"{self.get_name_team()}\")\n",
        "    print(f\"Team Role: {self.role}\\nTotal Goal: {self.goal}, Total Played: {self.match}\")\n",
        "    print(f\"Goal Ratio: {self.ratio}\")\n",
        "    print(f\"Match Earning: {(self.goal*1000)+(self.match*10)}K\")\n",
        "\n",
        "class Manager(Football):\n",
        "  def __init__(self,team_name,name,role,win):\n",
        "    super().__init__(team_name,name,role)\n",
        "    self.win=win\n",
        "\n",
        "  def print_details(self):\n",
        "    print(f\"{self.get_name_team()}\\nTeam Role: {self.role}\")\n",
        "    print(f\"Total Win: {self.win}\")\n",
        "    print(f\"Match Earning: {self.win*1000}K\")\n",
        "\n",
        "player_one = Player('Juventus', 'Ronaldo', 'Striker', 25, 32)\n",
        "player_one.calculate_ratio()\n",
        "player_one.print_details()\n",
        "print('------------------------------------------')\n",
        "manager_one = Manager('Real Madrid', 'Zidane', 'Manager', 25)\n",
        "manager_one.print_details()\n"
      ]
    }
  ],
  "metadata": {
    "colab": {
      "provenance": []
    },
    "kernelspec": {
      "display_name": "Python 3",
      "name": "python3"
    },
    "language_info": {
      "name": "python"
    }
  },
  "nbformat": 4,
  "nbformat_minor": 0
}
