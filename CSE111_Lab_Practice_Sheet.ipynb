{
 "cells": [
  {
   "cell_type": "markdown",
   "metadata": {},
   "source": [
    "Lab 9 Practice Sheet Tasks: https://docs.google.com/document/d/1hROLHs-etunuxtwH8fTCCQxZJ2V0LR36/edit"
   ]
  }
 ],
 "metadata": {
  "language_info": {
   "name": "python"
  }
 },
 "nbformat": 4,
 "nbformat_minor": 2
}
