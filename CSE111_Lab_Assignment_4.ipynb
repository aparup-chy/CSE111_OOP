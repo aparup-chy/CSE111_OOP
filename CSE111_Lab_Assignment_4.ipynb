{
  "cells": [
    {
      "cell_type": "markdown",
      "metadata": {},
      "source": [
        "Lab 4 Tasks: https://drive.google.com/file/d/1kYb2uutCtoV2ZwHBACUBmcaq1fWIY2s2/view"
      ]
    },
    {
      "cell_type": "code",
      "execution_count": null,
      "metadata": {
        "colab": {
          "base_uri": "https://localhost:8080/"
        },
        "id": "1mVZuqv1e1J0",
        "outputId": "fec9ebb6-f0e4-4d3f-bec5-942eb6a7c351"
      },
      "outputs": [
        {
          "name": "stdout",
          "output_type": "stream",
          "text": [
            "Hello\n",
            "None, you purchased 3 item(s): \n",
            "chips\n",
            "chocolate\n",
            "orange juice\n",
            "-----------------------------\n",
            "Hello David!\n",
            "David, you purchased 1 item(s): \n",
            "orange juice\n"
          ]
        }
      ],
      "source": [
        "#Task_1\n",
        "\n",
        "class Customer:\n",
        "    def __init__(self,name):\n",
        "        self.name=name\n",
        "    def greet(self,name=None):\n",
        "        self.name=name\n",
        "        if self.name!=None:\n",
        "            print(f\"Hello {self.name}!\")\n",
        "        else:\n",
        "            print(\"Hello\")\n",
        "    def purchase(self,*items):\n",
        "        self.items=items\n",
        "        a=\"\\n\".join(self.items)\n",
        "        print(f\"{self.name}, you purchased {len(self.items)} item(s): \\n{a}\")\n",
        "\n",
        "\n",
        "customer_1 = Customer(\"Sam\")\n",
        "customer_1.greet()\n",
        "customer_1.purchase(\"chips\", \"chocolate\", \"orange juice\")\n",
        "print(\"-----------------------------\")\n",
        "customer_2 = Customer(\"David\")\n",
        "customer_2.greet(\"David\")\n",
        "customer_2.purchase(\"orange juice\")\n"
      ]
    },
    {
      "cell_type": "code",
      "execution_count": 18,
      "metadata": {
        "colab": {
          "base_uri": "https://localhost:8080/"
        },
        "id": "hmPWCsClkFWn",
        "outputId": "db67406d-378d-4647-fb4a-ef2e802ef25c"
      },
      "outputs": [
        {
          "name": "stdout",
          "output_type": "stream",
          "text": [
            "Kunfu is a Male Panda Bear who is 5 years old\n",
            "Pan Pan is a Female Panda Bear who is 3 years old\n",
            "Ming Ming is a Female Panda Bear who is 8 years old\n",
            "===========================\n",
            "Pan Pan sleeps 10 hours and should have Broccoli Chicken\n",
            "Kunfu sleeps 4 hours and should have Mixed Veggies\n",
            "Ming Ming's duration is unknown thus should have only bamboo leaves\n"
          ]
        }
      ],
      "source": [
        "#Task_2\n",
        "\n",
        "class Panda:\n",
        "    def __init__(self,name,gender,age):\n",
        "        self.name=name\n",
        "        self.gender=gender\n",
        "        self.age=age\n",
        "    def sleep(self,hours=None):\n",
        "        self.hours=hours\n",
        "        if self.hours!=None:\n",
        "            if 3<=self.hours<=5:\n",
        "                return(f\"{self.name} sleeps {self.hours} hours and should have Mixed Veggies\")\n",
        "            elif 6<=self.hours<=8:\n",
        "                return(f\"{self.name} sleeps {self.hours} hours and should have Eggplant & Tofu\")\n",
        "            elif 9<=self.hours<=11:\n",
        "                return(f\"{self.name} sleeps {self.hours} hours and should have Broccoli Chicken\")\n",
        "        else:\n",
        "            return(f\"{self.name}'s duration is unknown thus should have only bamboo leaves\")\n",
        "\n",
        "panda1 = Panda(\"Kunfu\",\"Male\", 5)\n",
        "panda2=Panda(\"Pan Pan\",\"Female\",3)\n",
        "panda3=Panda(\"Ming Ming\",\"Female\",8)\n",
        "print(f\"{panda1.name} is a {panda1.gender} Panda Bear who is {panda1.age} years old\")\n",
        "print(f\"{panda2.name} is a {panda2.gender} Panda Bear who is {panda2.age} years old\")\n",
        "print(f\"{panda3.name} is a {panda3.gender} Panda Bear who is {panda3.age} years old\")\n",
        "print(\"===========================\")\n",
        "print(panda2.sleep(10))\n",
        "print(panda1.sleep(4))\n",
        "print(panda3.sleep())\n"
      ]
    },
    {
      "cell_type": "code",
      "execution_count": null,
      "metadata": {
        "colab": {
          "base_uri": "https://localhost:8080/"
        },
        "id": "uL-O493vrAqy",
        "outputId": "4b1d235d-df5f-471f-cecd-c369b04e4b74"
      },
      "outputs": [
        {
          "name": "stdout",
          "output_type": "stream",
          "text": [
            "White cat is sitting\n",
            "Black cat is sitting\n",
            "Brown cat is jumping\n",
            "Red cat is purring\n",
            "Blue cat is sitting\n",
            "Purple cat is jumping\n"
          ]
        }
      ],
      "source": [
        "#Task_3\n",
        "\n",
        "class Cat:\n",
        "    def __init__(self,color=\"White\",doing=\"sitting\"):\n",
        "        self.color=color\n",
        "        self.doing=doing  \n",
        "    def printCat(self):\n",
        "        print(f\"{self.color} cat is {self.doing}\")\n",
        "    def changeColor(self,color2):\n",
        "        self.color=color2\n",
        "\n",
        "c1 = Cat()\n",
        "c2 = Cat(\"Black\")\n",
        "c3 = Cat(\"Brown\", \"jumping\")\n",
        "c4 = Cat(\"Red\", \"purring\")\n",
        "c1.printCat()\n",
        "c2.printCat()\n",
        "c3.printCat()\n",
        "c4.printCat()\n",
        "c1.changeColor(\"Blue\")\n",
        "c3.changeColor(\"Purple\")\n",
        "c1.printCat()\n",
        "c3.printCat()\n"
      ]
    },
    {
      "cell_type": "code",
      "execution_count": null,
      "metadata": {
        "colab": {
          "base_uri": "https://localhost:8080/"
        },
        "id": "Y5ThJGxLv792",
        "outputId": "cb0a9f16-9fca-4bb0-de5d-1266a23b2570"
      },
      "outputs": [
        {
          "name": "stdout",
          "output_type": "stream",
          "text": [
            "--------------------------------\n",
            "Hello default student\n",
            "Your average quiz score is 3.3333333333333335\n",
            "--------------------------------\n",
            "Hello Harry\n",
            "Your average quiz score is 6.0\n",
            "--------------------------------\n",
            "Hello Hermione\n",
            "Your average quiz score is 9.666666666666666\n"
          ]
        }
      ],
      "source": [
        "#Task_4\n",
        "\n",
        "class Student:\n",
        "    def __init__(self,name=\"default student\"):\n",
        "        self.name=name       \n",
        "    def quizcalc(self,*num):\n",
        "        self.num=num      \n",
        "    def printdetail(self):\n",
        "        print(f\"Hello {self.name}\")\n",
        "        print(f\"Your average quiz score is {sum(self.num)/3}\")\n",
        "\n",
        "s1 = Student()\n",
        "s1.quizcalc(10)\n",
        "print('--------------------------------')\n",
        "s1.printdetail()\n",
        "s2 = Student('Harry')\n",
        "s2.quizcalc(10,8)\n",
        "print('--------------------------------')\n",
        "s2.printdetail()\n",
        "s3 = Student('Hermione')\n",
        "s3.quizcalc(10,9,10)\n",
        "print('--------------------------------')\n",
        "s3.printdetail()\n"
      ]
    },
    {
      "cell_type": "code",
      "execution_count": 1,
      "metadata": {
        "colab": {
          "base_uri": "https://localhost:8080/"
        },
        "id": "h8n3U8t9yuOi",
        "outputId": "36619a1b-b9b4-4e44-a60b-1f8c0248af2d"
      },
      "outputs": [
        {
          "name": "stdout",
          "output_type": "stream",
          "text": [
            "Name: Harry Potter\n",
            "ID: 123\n",
            "Department: CSE\n",
            "Daily Effort: 3 hour(s)\n",
            "Suggestion: Keep up the good work!\n",
            "========================\n",
            "Name: John Wick\n",
            "ID: 456\n",
            "Department: BBA\n",
            "Daily Effort: 2 hour(s)\n",
            "Suggestion: Should give more effort!\n",
            "========================\n",
            "Name: Naruto Uzumaki\n",
            "ID: 777\n",
            "Department: Ninja\n",
            "Daily Effort: 6 hour(s)\n",
            "Suggestion: Excellent! Now motivate others.\n"
          ]
        }
      ],
      "source": [
        "#Task_5\n",
        "\n",
        "class Student:\n",
        "    def __init__(self, name, id, dept=\"CSE\"):\n",
        "        self.name=name\n",
        "        self.id=id\n",
        "        self.dept=dept\n",
        "    def dailyEffort(self, hours):\n",
        "        self.hours=hours\n",
        "    def printDetails(self):\n",
        "        print(\"Name:\",self.name)\n",
        "        print(\"ID:\",self.id)\n",
        "        print(\"Department:\",self.dept)\n",
        "        print(f\"Daily Effort: {self.hours} hour(s)\")\n",
        "        if self.hours<=2:\n",
        "            print(\"Suggestion: Should give more effort!\")\n",
        "        elif self.hours<=4:\n",
        "            print(\"Suggestion: Keep up the good work!\")\n",
        "        else:\n",
        "            print(\"Suggestion: Excellent! Now motivate others.\")\n",
        "\n",
        "harry = Student('Harry Potter', 123)\n",
        "harry.dailyEffort(3)\n",
        "harry.printDetails()\n",
        "print('========================')\n",
        "john = Student(\"John Wick\", 456, \"BBA\")\n",
        "john.dailyEffort(2)\n",
        "john.printDetails()\n",
        "print('========================')\n",
        "naruto = Student(\"Naruto Uzumaki\", 777, \"Ninja\")\n",
        "naruto.dailyEffort(6)\n",
        "naruto.printDetails()\n"
      ]
    },
    {
      "cell_type": "code",
      "execution_count": 6,
      "metadata": {
        "colab": {
          "base_uri": "https://localhost:8080/"
        },
        "id": "4H7XaUWioySD",
        "outputId": "c3fd402e-306a-47cf-c6f9-81c531783712"
      },
      "outputs": [
        {
          "name": "stdout",
          "output_type": "stream",
          "text": [
            "=========================\n",
            "Name: Thomas\n",
            "Age: 23\n",
            "Symptoms: Headache\n",
            "=========================\n",
            "Name: Carol\n",
            "Age: 20\n",
            "Symptoms: Vomiting, Coughing\n",
            "=========================\n",
            "Name: Mike\n",
            "Age: 25\n",
            "Symptoms: Fever, Headache, Coughing\n"
          ]
        }
      ],
      "source": [
        "#Task_6\n",
        "\n",
        "class Patient:\n",
        "    def __init__(self,name,age):\n",
        "        self.name=name\n",
        "        self.age=age\n",
        "    def add_Symptom(self,*info):\n",
        "        self.info=info\n",
        "    def printPatientDetail(self):\n",
        "        print(\"Name:\",self.name)\n",
        "        print(\"Age:\",self.age)\n",
        "        a=\", \".join(self.info)\n",
        "        print(f\"Symptoms: {a}\")\n",
        "\n",
        "p1 = Patient(\"Thomas\", 23)\n",
        "p1.add_Symptom(\"Headache\")\n",
        "p2 = Patient(\"Carol\", 20)\n",
        "p2.add_Symptom(\"Vomiting\", \"Coughing\")\n",
        "p3 = Patient(\"Mike\", 25)\n",
        "p3.add_Symptom(\"Fever\", \"Headache\", \"Coughing\")\n",
        "print(\"=========================\")\n",
        "p1.printPatientDetail()\n",
        "print(\"=========================\")\n",
        "p2.printPatientDetail()\n",
        "print(\"=========================\")\n",
        "p3.printPatientDetail()\n"
      ]
    },
    {
      "cell_type": "code",
      "execution_count": 13,
      "metadata": {
        "colab": {
          "base_uri": "https://localhost:8080/"
        },
        "id": "PcXSd95FrEXG",
        "outputId": "0e7fc136-045a-4242-ebfe-25753d0db309"
      },
      "outputs": [
        {
          "name": "stdout",
          "output_type": "stream",
          "text": [
            "5..4..3..2..1.. Play !!!\n",
            "=========================\n",
            "Batting Team: Rangpur Riders\n",
            "Bowling Team: Cumilla Victorians\n",
            "Total Runs: 10  Wickets: 0  Overs: 1\n",
            "=========================\n",
            "Warning! Cannot add 5 over/s (5 over match)\n",
            "=========================\n",
            "Batting Team: Rangpur Riders\n",
            "Bowling Team: Cumilla Victorians\n",
            "Total Runs: 10  Wickets: 1  Overs: 6\n"
          ]
        }
      ],
      "source": [
        "#Task_7\n",
        "\n",
        "class Match:\n",
        "    def __init__(self,teams):\n",
        "        self.teams=teams\n",
        "        self.temp_teams=self.teams.split(\"-\")\n",
        "        self.wicks=0\n",
        "        self.runs=0\n",
        "        self.overs=0\n",
        "        print(\"5..4..3..2..1.. Play !!!\")\n",
        "    def add_run(self,runs):\n",
        "        self.runs+=runs\n",
        "    def add_over(self,overs):\n",
        "        self.overs+=overs\n",
        "        if self.overs>=5:\n",
        "            print(\"Warning! Cannot add 5 over/s (5 over match)\")\n",
        "    def add_wicket(self,wicks2):\n",
        "        self.wicks+=wicks2\n",
        "    def print_scoreboard(self):\n",
        "        print(f\"Batting Team: {self.temp_teams[0]}\")\n",
        "        print(f\"Bowling Team: {self.temp_teams[1]}\")\n",
        "        return f\"Total Runs: {self.runs}  Wickets: {self.wicks}  Overs: {self.overs}\"\n",
        "\n",
        "match1 = Match(\"Rangpur Riders-Cumilla Victorians\")\n",
        "print(\"=========================\")\n",
        "match1.add_run(4)\n",
        "match1.add_run(6)\n",
        "match1.add_over(1)\n",
        "print(match1.print_scoreboard())\n",
        "print(\"=========================\")\n",
        "match1.add_over(5)\n",
        "print(\"=========================\")\n",
        "match1.add_wicket(1)\n",
        "print(match1.print_scoreboard())\n"
      ]
    },
    {
      "cell_type": "code",
      "execution_count": 14,
      "metadata": {
        "colab": {
          "base_uri": "https://localhost:8080/"
        },
        "id": "EizFXd7IetPw",
        "outputId": "cd43e5c0-5baa-4f8d-dd8a-10f24db9ddac"
      },
      "outputs": [
        {
          "name": "stdout",
          "output_type": "stream",
          "text": [
            "**********************\n",
            "Customer Name: No name set\n",
            "Product Weight: 0\n",
            "Total fee: 0\n",
            "**********************\n",
            "Customer Name: Bob The Builder\n",
            "Product Weight: 0\n",
            "Total fee: 0\n",
            "----------------------------\n",
            "Customer Name: Bob The Builder\n",
            "Product Weight: 15\n",
            "Total fee: 350\n",
            "**********************\n",
            "Customer Name: Dora The Explorer\n",
            "Product Weight: 10\n",
            "Total fee: 300\n"
          ]
        }
      ],
      "source": [
        "#Task_8\n",
        "\n",
        "class ParcelKoro:\n",
        "    def __init__(self,name=\"No name set\",product_weight=0):\n",
        "        self.name=name\n",
        "        self.product_weight=product_weight\n",
        "    def calculateFee(self,location=None):\n",
        "        if location==None:\n",
        "            location_charge=50\n",
        "        else:\n",
        "            location_charge=100\n",
        "        if self.product_weight==0:\n",
        "            self.total_fee=0\n",
        "        else:\n",
        "            self.total_fee=(self.product_weight * 20)+location_charge\n",
        "    def printDetails(self):\n",
        "        print(f\"Customer Name: {self.name}\")\n",
        "        print(f\"Product Weight: {self.product_weight}\")\n",
        "        print(f\"Total fee: {self.total_fee}\")\n",
        "\n",
        "print(\"**********************\")\n",
        "p1 = ParcelKoro()\n",
        "p1.calculateFee()\n",
        "p1.printDetails()\n",
        "print(\"**********************\")\n",
        "p2 = ParcelKoro('Bob The Builder')\n",
        "p2.calculateFee()\n",
        "p2.printDetails()\n",
        "print(\"----------------------------\")\n",
        "p2.product_weight = 15\n",
        "p2.calculateFee()\n",
        "p2.printDetails()\n",
        "print(\"**********************\")\n",
        "p3 = ParcelKoro('Dora The Explorer', 10)\n",
        "p3.calculateFee('Dhanmondi')\n",
        "p3.printDetails()\n"
      ]
    },
    {
      "cell_type": "code",
      "execution_count": 15,
      "metadata": {
        "colab": {
          "base_uri": "https://localhost:8080/"
        },
        "id": "dvnsw4uulRgw",
        "outputId": "c6361b06-79d7-489a-9578-1f1700b2baea"
      },
      "outputs": [
        {
          "name": "stdout",
          "output_type": "stream",
          "text": [
            "Name New Batsman\n",
            "Runs Scored: 6101 , Balls Faced: 7380\n",
            "============================\n",
            "Name Liton Das\n",
            "Runs Scored: 678 , Balls Faced: 773\n",
            "----------------------------\n",
            "87.71021992238033\n",
            "============================\n",
            "Name Shakib Al Hasan\n",
            "Runs Scored: 6101 , Balls Faced: 7380\n",
            "----------------------------\n",
            "82.66937669376694\n"
          ]
        }
      ],
      "source": [
        "#task_9\n",
        "\n",
        "class Batsman:\n",
        "    def __init__(self, *info):\n",
        "        if len(info) == 3:\n",
        "            self.name = info[0]\n",
        "            self.runs = info[1]\n",
        "            self.balls = info[2]\n",
        "        else:\n",
        "            self.name = \"New Batsman\"\n",
        "            self.runs = info[0]\n",
        "            self.balls = info[1]\n",
        "    def printCareerStatistics(self):\n",
        "        print(\"Name\",self.name)\n",
        "        print(f\"Runs Scored: {self.runs} , Balls Faced: {self.balls}\")\n",
        "    def setName(self,new_name):\n",
        "        self.name=new_name\n",
        "    def battingStrikeRate(self):\n",
        "        sr=(self.runs/self.balls)*100\n",
        "        return sr\n",
        "\n",
        "b1 = Batsman(6101, 7380)\n",
        "b1.printCareerStatistics()\n",
        "print(\"============================\")\n",
        "b2 = Batsman(\"Liton Das\", 678, 773)\n",
        "b2.printCareerStatistics()\n",
        "print(\"----------------------------\")\n",
        "print(b2.battingStrikeRate())\n",
        "print(\"============================\")\n",
        "b1.setName(\"Shakib Al Hasan\")\n",
        "b1.printCareerStatistics()\n",
        "print(\"----------------------------\")\n",
        "print(b1.battingStrikeRate())\n"
      ]
    },
    {
      "cell_type": "code",
      "execution_count": 16,
      "metadata": {
        "colab": {
          "base_uri": "https://localhost:8080/"
        },
        "id": "W20F7QEmnw5b",
        "outputId": "506f584c-6814-4353-93b5-875a44ace491"
      },
      "outputs": [
        {
          "name": "stdout",
          "output_type": "stream",
          "text": [
            "===================\n",
            "Name: Manchester United \n",
            "Song: Glory Glory Man United \n",
            "Total No. of Title: 0\n",
            "##################\n",
            "Name: Manchester United \n",
            "Song: Glory Glory Man United \n",
            "Total No. of Title: 1\n",
            "===================\n",
            "Name: Chelsea \n",
            "Song: No Slogan \n",
            "Total No. of Title: 0\n",
            "Name: Chelsea \n",
            "Song: Keep the blue flag flying high \n",
            "Total No. of Title: 0\n"
          ]
        }
      ],
      "source": [
        "#Task_10\n",
        "\n",
        "class EPL_Team:\n",
        "    def __init__(self,team,song=\"No Slogan\"):\n",
        "        self.team=team\n",
        "        self.song=song\n",
        "        self.title=0\n",
        "    def showClubInfo(self):\n",
        "        return (f'Name: {self.team} \\nSong: {self.song} \\nTotal No. of Title: {self.title}')\n",
        "    def increaseTitle(self):\n",
        "        self.title += 1\n",
        "    def changeSong(self, song):\n",
        "        self.song = song\n",
        "\n",
        "manu = EPL_Team('Manchester United', 'Glory Glory Man United')\n",
        "chelsea = EPL_Team('Chelsea')\n",
        "print('===================')\n",
        "print(manu.showClubInfo())\n",
        "print('##################')\n",
        "manu.increaseTitle()\n",
        "print(manu.showClubInfo())\n",
        "print('===================')\n",
        "print(chelsea.showClubInfo())\n",
        "chelsea.changeSong('Keep the blue flag flying high')\n",
        "print(chelsea.showClubInfo())\n"
      ]
    },
    {
      "cell_type": "code",
      "execution_count": 17,
      "metadata": {
        "colab": {
          "base_uri": "https://localhost:8080/"
        },
        "id": "p17bMSlKpGhR",
        "outputId": "f77bcb71-8673-4e4e-f979-aa090c9c4a6b"
      },
      "outputs": [
        {
          "name": "stdout",
          "output_type": "stream",
          "text": [
            "Author name: Humayun Ahmed\n",
            "List of Books:\n",
            "Deyal\n",
            "Megher Opor Bari\n",
            "===================\n",
            "Default\n",
            "===================\n",
            "Author name: Mario Puzo\n",
            "List of Books:\n",
            "The Godfather\n",
            "Omerta\n",
            "The Sicilian\n",
            "===================\n",
            "Author name: Paolo Coelho\n",
            "List of Books:\n",
            "The Alchemist\n",
            "The Fifth Mountain\n"
          ]
        }
      ],
      "source": [
        "#Task_11\n",
        "\n",
        "class Author:\n",
        "    def __init__(self, name='Default', *books):\n",
        "        self.books = books\n",
        "        self.name = name\n",
        "    def addBooks(self, *books):\n",
        "        self.books = books\n",
        "    def printDetails(self):\n",
        "        print(f'Author name: {self.name}')\n",
        "        print(f'List of Books:')\n",
        "        for i in self.books:\n",
        "            print(i)\n",
        "    def changeName(self, name):\n",
        "        self.name = name\n",
        "\n",
        "auth1 = Author('Humayun Ahmed')\n",
        "auth1.addBooks('Deyal', 'Megher Opor Bari')\n",
        "auth1.printDetails()\n",
        "print(\"===================\")\n",
        "auth2 = Author()\n",
        "print(auth2.name)\n",
        "auth2.changeName('Mario Puzo')\n",
        "auth2.addBooks('The Godfather', 'Omerta', 'The Sicilian')\n",
        "print(\"===================\")\n",
        "auth2.printDetails()\n",
        "print(\"===================\")\n",
        "auth3 = Author('Paolo Coelho', 'The Alchemist', 'The Fifth Mountain')\n",
        "auth3.printDetails()\n"
      ]
    },
    {
      "cell_type": "code",
      "execution_count": 1,
      "metadata": {
        "colab": {
          "base_uri": "https://localhost:8080/"
        },
        "id": "Ns9RvkN147ZL",
        "outputId": "cfb14cdd-c917-4075-96b9-1716fd7b7d4d"
      },
      "outputs": [
        {
          "name": "stdout",
          "output_type": "stream",
          "text": [
            "-------------------------------\n",
            "Dear Walker! Welcome to TaxiLagbe.\n",
            "Dear Wood! Welcome to TaxiLagbe.\n",
            "Dear Matt! Welcome to TaxiLagbe.\n",
            "Dear Wilson! Welcome to TaxiLagbe.\n",
            "-------------------------------\n",
            "Trip info for Taxi number: 1010-01\n",
            "This taxi can cover only Dhaka Location.\n",
            "Total passengers: 4\n",
            "Passenger list:\n",
            "Walker, Wood, Matt, Wilson\n",
            "Total collected fare: 505 Taka\n",
            "-------------------------------\n",
            "Taxi Full! No more passengers can be added.\n",
            "-------------------------------\n",
            "Trip info for Taxi number: 1010-01\n",
            "This taxi can cover only Dhaka Location.\n",
            "Total passengers: 4\n",
            "Passenger list:\n",
            "Walker, Wood, Matt, Wilson\n",
            "Total collected fare: 505 Taka\n",
            "-------------------------------\n",
            "Dear Ronald! Welcome to TaxiLagbe.\n",
            "Dear Parker! Welcome to TaxiLagbe.\n",
            "-------------------------------\n",
            "Trip info for Taxi number: 1010-02\n",
            "This taxi can cover only Khulna Location.\n",
            "Total passengers: 2\n",
            "Passenger list:\n",
            "Ronald, Parker\n",
            "Total collected fare: 330 Taka\n"
          ]
        }
      ],
      "source": [
        "#Task 12\n",
        "\n",
        "class TaxiLagbe:\n",
        "    def __init__(self, Passenger, Location):\n",
        "        self.Passenger = Passenger\n",
        "        self.Location = Location\n",
        "        self.passenger = []\n",
        "        self.fare = 0\n",
        "    def addPassenger(self, *names):\n",
        "        if len(self.passenger) >= 4:\n",
        "                print(\"Taxi Full! No more passengers can be added.\")\n",
        "        else:\n",
        "            for item in names:\n",
        "                item = item.split(\"_\")\n",
        "                self.passenger.append(item[0])\n",
        "                self.fare += int(item[1])\n",
        "                print(f\"Dear {item[0]}! Welcome to TaxiLagbe.\")\n",
        "                if len(self.passenger) > 4:\n",
        "                    print(\"Taxi Full! No more passengers can be added.\")\n",
        "                    break\n",
        "    def printDetails(self):\n",
        "        print(f\"Trip info for Taxi number: {self.Passenger}\\nThis taxi can cover only {self.Location} Location.\\nTotal passengers: {len(self.passenger)}\")\n",
        "        print(f\"Passenger list:\")\n",
        "        for item in self.passenger:         \n",
        "            if item==self.passenger[-1]:\n",
        "                print(item)\n",
        "            else:\n",
        "                print(item, end = \", \")\n",
        "        print(f\"Total collected fare: {self.fare} Taka\")\n",
        "\n",
        "taxi1 = TaxiLagbe('1010-01', 'Dhaka')\n",
        "print('-------------------------------')\n",
        "taxi1.addPassenger('Walker_100', 'Wood_200')\n",
        "taxi1.addPassenger('Matt_100')\n",
        "taxi1.addPassenger('Wilson_105')\n",
        "print('-------------------------------')\n",
        "taxi1.printDetails()\n",
        "print('-------------------------------')\n",
        "taxi1.addPassenger('Karen_200')\n",
        "print('-------------------------------')\n",
        "taxi1.printDetails()\n",
        "print('-------------------------------')\n",
        "taxi2 = TaxiLagbe('1010-02', 'Khulna')\n",
        "taxi2.addPassenger('Ronald_115')\n",
        "taxi2.addPassenger('Parker_215')\n",
        "print('-------------------------------')\n",
        "taxi2.printDetails()\n"
      ]
    },
    {
      "cell_type": "code",
      "execution_count": 2,
      "metadata": {
        "colab": {
          "base_uri": "https://localhost:8080/"
        },
        "id": "eWpEcWeu8UmV",
        "outputId": "5f8c13e9-71d1-48e9-96fc-3720ede65a9c"
      },
      "outputs": [
        {
          "name": "stdout",
          "output_type": "stream",
          "text": [
            "Default Account\n",
            "0\n",
            "------------------------\n",
            "Oliver\n",
            "10000.0\n",
            "------------------------\n",
            "Liam\n",
            "0\n",
            "------------------------\n",
            "Noah\n",
            "400\n",
            "------------------------\n",
            "Withdraw successful! New balance is: 3070.0\n",
            "------------------------\n",
            "Sorry, Withdraw unsuccessful! The account balance after deducting withdraw amount is equal to or less than minimum.\n",
            "------------------------\n",
            "Withdraw successful! New balance is: 3071.0\n"
          ]
        }
      ],
      "source": [
        "#Task_13 (has a problem in the output)\n",
        "\n",
        "class Account:\n",
        "  def __init__(self, name = 'Default Account', balance = 0):\n",
        "    self.name = name\n",
        "    self.balance = balance\n",
        "  def details(self):\n",
        "    print(self.name)\n",
        "    return (self.balance)\n",
        "  def withdraw(self, num):\n",
        "    self.num = num\n",
        "    if self.balance <= self.num:\n",
        "      print(\"Sorry, Withdraw unsuccessful! The account balance after deducting withdraw amount is equal to or less than minimum.\")\n",
        "    else: \n",
        "      print(f'Withdraw successful! New balance is: {self.balance-self.num}')\n",
        "\n",
        "a1 = Account()\n",
        "print(a1.details())\n",
        "print(\"------------------------\")\n",
        "a1.name = \"Oliver\"\n",
        "a1.balance = 10000.0\n",
        "print(a1.details())\n",
        "print(\"------------------------\")\n",
        "a2 = Account(\"Liam\")\n",
        "print(a2.details())\n",
        "print(\"------------------------\")\n",
        "a3 = Account(\"Noah\",400)\n",
        "print(a3.details())\n",
        "print(\"------------------------\")\n",
        "a1.withdraw(6930)\n",
        "print(\"------------------------\")\n",
        "a2.withdraw(600)\n",
        "print(\"------------------------\")\n",
        "a1.withdraw(6929)\n"
      ]
    },
    {
      "cell_type": "code",
      "execution_count": 4,
      "metadata": {
        "colab": {
          "base_uri": "https://localhost:8080/"
        },
        "id": "NNzL0ksG9_8x",
        "outputId": "95af229c-40da-47da-ed16-de74c9596094"
      },
      "outputs": [
        {
          "name": "stdout",
          "output_type": "stream",
          "text": [
            "Grades for Pietro\n",
            "{'Summer2020': {('CSE230', 'CSE220', 'MAT110'): 4.0}, 'Summer2021': {('CSE250', 'CSE330'): 3.85}}\n",
            "------------------------------------------------------\n",
            "Name : Pietro \n",
            "ID: 10101222\n",
            "Courses taken in Summer2020:\n",
            "CSE230\n",
            "CSE220\n",
            "MAT110\n",
            "GPA : 4.0\n",
            "Courses taken in Summer2021:\n",
            "CSE250\n",
            "CSE330\n",
            "GPA : 3.85\n",
            "------------------------------------------------------\n",
            "Grades for Wanda\n",
            "{'Summer2022': {('CSE111', 'CSE260', 'ENG101'): 3.8}}\n",
            "------------------------------------------------------\n",
            "Name : Wanda \n",
            "ID: 10103332\n",
            "Courses taken in Summer2022:\n",
            "CSE111\n",
            "CSE260\n",
            "ENG101\n",
            "GPA : 3.8\n"
          ]
        }
      ],
      "source": [
        "#Task_14\n",
        "\n",
        "class StudentDatabase:\n",
        "  def __init__(self,name,id):\n",
        "    self.name = name\n",
        "    self.id = id\n",
        "    self.grades = {}\n",
        "  def calculateGPA(self,courses,SEMESTER):\n",
        "    tempDict = {}\n",
        "    Course_name_list = []\n",
        "    Grades = []\n",
        "    for courseNames in courses:\n",
        "      list = courseNames.split(\":\")\n",
        "      Course_name_list.append(list[0].strip())\n",
        "      Grades.append(float(list[1]))\n",
        "    CGPA = (sum(Grades))/len(Grades)\n",
        "    Course_name_list = tuple(Course_name_list)\n",
        "    tempDict[Course_name_list] = round(CGPA,2)\n",
        "    self.grades[SEMESTER] = tempDict\n",
        "  def printDetails(self):\n",
        "    print(f'Name : {self.name} \\nID: {self.id}')\n",
        "    for SEMESTER in self.grades.keys():\n",
        "        print(f'Courses taken in {SEMESTER}:')\n",
        "        for courseNames in self.grades[SEMESTER]:\n",
        "            for courses in courseNames:\n",
        "                print(courses)\n",
        "            print(f'GPA : {self.grades[SEMESTER][courseNames]}')\n",
        "\n",
        "s1 = StudentDatabase('Pietro', '10101222')\n",
        "s1.calculateGPA(['CSE230: 4.0', 'CSE220: 4.0', 'MAT110: 4.0'],\n",
        "'Summer2020')\n",
        "s1.calculateGPA(['CSE250: 3.7', 'CSE330: 4.0'], 'Summer2021')\n",
        "print(f'Grades for {s1.name}\\n{s1.grades}')\n",
        "print('------------------------------------------------------')\n",
        "s1.printDetails()\n",
        "s2 = StudentDatabase('Wanda', '10103332')\n",
        "s2.calculateGPA(['CSE111: 3.7', 'CSE260: 3.7', 'ENG101: 4.0'],\n",
        "'Summer2022')\n",
        "print('------------------------------------------------------')\n",
        "print(f'Grades for {s2.name}\\n{s2.grades}')\n",
        "print('------------------------------------------------------')\n",
        "s2.printDetails()\n"
      ]
    }
  ],
  "metadata": {
    "colab": {
      "collapsed_sections": [],
      "name": "Lab4.ipynb",
      "provenance": []
    },
    "kernelspec": {
      "display_name": "Python 3",
      "name": "python3"
    },
    "language_info": {
      "name": "python"
    }
  },
  "nbformat": 4,
  "nbformat_minor": 0
}
