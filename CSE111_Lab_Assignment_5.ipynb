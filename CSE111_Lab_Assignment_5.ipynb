{
  "cells": [
    {
      "cell_type": "markdown",
      "metadata": {},
      "source": [
        "Lab 5 Tasks: https://drive.google.com/file/d/1V0H_xpAgyI0vmX_7eGTuAjSAJtk8Q8xj/view?usp=sharing"
      ]
    },
    {
      "cell_type": "code",
      "execution_count": null,
      "metadata": {
        "colab": {
          "base_uri": "https://localhost:8080/"
        },
        "id": "Qi82f2uhqg2j",
        "outputId": "d4b5362d-08dd-41b6-de72-9c47c9aee42e"
      },
      "outputs": [
        {
          "name": "stdout",
          "output_type": "stream",
          "text": [
            "Quiz 1 (out of 10): 10\n",
            "Quiz 2 (out of 10): 8\n",
            "Lab (out of 30): 30\n",
            "Mid (out of 20): 20\n",
            "Final (out of 30): 29\n",
            "Total marks: 97\n"
          ]
        }
      ],
      "source": [
        "#Task1\n",
        "\n",
        "class Marks:\n",
        "    def __init__(self,mark):\n",
        "        self.mark=mark\n",
        "    def __add__(self,other):\n",
        "        return Marks(self.mark+other.mark)\n",
        "\n",
        "Q1 = Marks(int(input(\"Quiz 1 (out of 10): \")))\n",
        "Q2 = Marks(int(input(\"Quiz 2 (out of 10): \")))\n",
        "Lab = Marks(int(input(\"Lab (out of 30): \")))\n",
        "Mid = Marks(int(input(\"Mid (out of 20): \")))\n",
        "Final = Marks(int(input(\"Final (out of 30): \")))\n",
        "total = Q1 + Q2 + Lab + Mid + Final\n",
        "print(\"Total marks: {}\".format(total.mark))\n",
        "\n"
      ]
    },
    {
      "cell_type": "code",
      "execution_count": null,
      "metadata": {
        "colab": {
          "base_uri": "https://localhost:8080/"
        },
        "id": "amgYSRZF04WG",
        "outputId": "56bf96b2-cd8b-4d58-867b-e9ad238c6021"
      },
      "outputs": [
        {
          "name": "stdout",
          "output_type": "stream",
          "text": [
            "=========================\n",
            "Name: Saad Abdullah\n",
            "Department: CSE\n",
            "List of courses\n",
            "=========================\n",
            "CSE 110 Programming Language I\n",
            "CSE 111 Programming Language-II\n",
            "=========================\n",
            "Name: Mumit Khan\n",
            "Department: CSE\n",
            "List of courses\n",
            "=========================\n",
            "CSE 220 Data Structures\n",
            "CSE 221 Algorithms\n",
            "CCSE 230 Discrete Mathematics\n",
            "=========================\n",
            "Name: Sadia Kazi\n",
            "Department: CSE\n",
            "List of courses\n",
            "=========================\n",
            "CSE 310 Object Oriented Programming\n",
            "CSE 320 Data Communications\n",
            "CSE 340 Computer Architecture\n"
          ]
        }
      ],
      "source": [
        "#Task2\n",
        "\n",
        "class Teacher:\n",
        "    def __init__(self,name,dept):\n",
        "        self.__name=name\n",
        "        self.__dept=dept\n",
        "        self.__course=\"=========================\"\n",
        "    def addCourse(self,other):\n",
        "        self.__course+=(\"\\n\"+other.course)\n",
        "    def printDetail(self):\n",
        "        print(\"=========================\")\n",
        "        print(\"Name:\",self.__name)\n",
        "        print(\"Department:\",self.__dept)\n",
        "        print(\"List of courses\")\n",
        "        print(self.__course)\n",
        "class Course:\n",
        "    def __init__(self,course):\n",
        "        self.course=course\n",
        "\n",
        "t1 = Teacher(\"Saad Abdullah\", \"CSE\")\n",
        "t2 = Teacher(\"Mumit Khan\", \"CSE\")\n",
        "t3 = Teacher(\"Sadia Kazi\", \"CSE\")\n",
        "c1 = Course(\"CSE 110 Programming Language I\")\n",
        "c2 = Course(\"CSE 111 Programming Language-II\")\n",
        "c3 = Course(\"CSE 220 Data Structures\")\n",
        "c4 = Course(\"CSE 221 Algorithms\")\n",
        "c5 = Course(\"CCSE 230 Discrete Mathematics\")\n",
        "c6 = Course(\"CSE 310 Object Oriented Programming\")\n",
        "c7 = Course(\"CSE 320 Data Communications\")\n",
        "c8 = Course(\"CSE 340 Computer Architecture\")\n",
        "t1.addCourse(c1)\n",
        "t1.addCourse(c2)\n",
        "t2.addCourse(c3)\n",
        "t2.addCourse(c4)\n",
        "t2.addCourse(c5)\n",
        "t3.addCourse(c6)\n",
        "t3.addCourse(c7)\n",
        "t3.addCourse(c8)\n",
        "t1.printDetail()\n",
        "t2.printDetail()\n",
        "t3.printDetail()\n"
      ]
    },
    {
      "cell_type": "code",
      "execution_count": null,
      "metadata": {
        "colab": {
          "base_uri": "https://localhost:8080/"
        },
        "id": "5qPsIjfA1FwI",
        "outputId": "6a40c7ac-3cec-4fae-ab68-d62354e2e44c"
      },
      "outputs": [
        {
          "name": "stdout",
          "output_type": "stream",
          "text": [
            "=========================\n",
            "Team Bangladesh\n",
            "List of Players:\n",
            "['Mashrafi', 'Tamim']\n",
            "=========================\n",
            "=========================\n",
            "Team Australia\n",
            "List of Players:\n",
            "['Ponting', 'Lee']\n",
            "=========================\n"
          ]
        }
      ],
      "source": [
        "#Task3\n",
        "\n",
        "class Team:\n",
        "    def __init__(self,name=None):\n",
        "        self.__name=name\n",
        "        self.__list1=[]\n",
        "    def setName(self,name):\n",
        "        self.__name=name\n",
        "    def addPlayer(self,other):\n",
        "        self.__list1.append(other.player)\n",
        "    def printDetail(self):\n",
        "        print(\"=========================\")\n",
        "        print(\"Team\",self.__name)\n",
        "        print(\"List of Players:\")\n",
        "        print(self.__list1)\n",
        "        print(\"=========================\")\n",
        "class Player:\n",
        "    def __init__(self,player):\n",
        "        self.player=player\n",
        "\n",
        "b = Team()\n",
        "b.setName('Bangladesh')\n",
        "mashrafi = Player(\"Mashrafi\")\n",
        "b.addPlayer(mashrafi)\n",
        "tamim = Player(\"Tamim\")\n",
        "b.addPlayer(tamim)\n",
        "b.printDetail()\n",
        "a = Team(\"Australia\")\n",
        "ponting = Player(\"Ponting\")\n",
        "a.addPlayer(ponting)\n",
        "lee = Player(\"Lee\")\n",
        "a.addPlayer(lee)\n",
        "a.printDetail()\n"
      ]
    },
    {
      "cell_type": "code",
      "execution_count": null,
      "metadata": {
        "colab": {
          "base_uri": "https://localhost:8080/"
        },
        "id": "Sbsbm20rX8hc",
        "outputId": "5e32e289-c68f-4411-a6b3-53dd1391f93f"
      },
      "outputs": [
        {
          "name": "stdout",
          "output_type": "stream",
          "text": [
            "First Color: red\n",
            "Second Color: blue\n",
            "Color formed: Violet\n"
          ]
        }
      ],
      "source": [
        "#Task4\n",
        "\n",
        "\n",
        "class Color:\n",
        "    def __init__(self,clr):\n",
        "        self.clr=clr\n",
        "    def __add__(self,other):\n",
        "        self.mix=self.clr+other.clr\n",
        "        if self.mix==\"redyellow\" or self.mix==\"yellowred\":\n",
        "            return Color(\"Orange\")\n",
        "        if self.mix==\"redblue\" or self.clr==\"bluered\":\n",
        "            return Color(\"Violet\")\n",
        "        if self.mix==\"yellowblue\" or self.mix==\"blueyellow\":\n",
        "            return Color(\"Green\")\n",
        "\n",
        "C1 = Color(input(\"First Color: \").lower())\n",
        "C2 = Color(input(\"Second Color: \").lower())\n",
        "C3 = C1 + C2\n",
        "print(\"Color formed:\", C3.clr)\n"
      ]
    },
    {
      "cell_type": "code",
      "execution_count": null,
      "metadata": {
        "colab": {
          "base_uri": "https://localhost:8080/"
        },
        "id": "iq5K4Y4BYE0d",
        "outputId": "59bbf0b0-7fb6-4122-abc0-1af7648b1909"
      },
      "outputs": [
        {
          "name": "stdout",
          "output_type": "stream",
          "text": [
            "First circle radius: 4\n",
            "First circle area: 50.26548245743669\n",
            "Second circle radius: 5\n",
            "Second circle area: 78.53981633974483\n",
            "Third circle radius: 9\n",
            "Third circle area: 254.46900494077323\n"
          ]
        }
      ],
      "source": [
        "#Task5\n",
        "\n",
        "import math\n",
        "class Circle:\n",
        "    def __init__(self,radius):\n",
        "        self.__radius=radius\n",
        "    def setRadius(self,radius):\n",
        "        self.__radius=radius\n",
        "    def getRadius(self):\n",
        "        return self.__radius\n",
        "    def __add__(self,other):\n",
        "        return Circle(self.__radius+other.__radius)\n",
        "    def area(self):\n",
        "        return math.pi*((self.__radius)**2)\n",
        "\n",
        "c1 = Circle(4)\n",
        "print(\"First circle radius:\" , c1.getRadius())\n",
        "print(\"First circle area:\" ,c1.area())\n",
        "\n",
        "c2 = Circle(5)\n",
        "print(\"Second circle radius:\", c2.getRadius())\n",
        "print(\"Second circle area:\", c2.area())\n",
        "\n",
        "c3 = c1 + c2\n",
        "print(\"Third circle radius:\", c3.getRadius())\n",
        "print(\"Third circle area:\", c3.area())\n"
      ]
    },
    {
      "cell_type": "code",
      "execution_count": null,
      "metadata": {
        "colab": {
          "base_uri": "https://localhost:8080/"
        },
        "id": "6aim5QbDYNOA",
        "outputId": "a42659ff-d6a8-4bd5-93aa-3780947e33de"
      },
      "outputs": [
        {
          "name": "stdout",
          "output_type": "stream",
          "text": [
            "First Triangle Base: 10\n",
            "First Triangle Height: 5\n",
            "First Triangle area: 25.0\n",
            "Second Triangle Base: 5\n",
            "Second Triangle Height: 3\n",
            "Second Triangle area: 7.5\n",
            "Third Triangle Base: 5\n",
            "Third Triangle Height: 2\n",
            "Third Triangle area: 5.0\n"
          ]
        }
      ],
      "source": [
        "#Task6\n",
        "\n",
        "class Triangle:\n",
        "    def __init__(self,base,height):\n",
        "        self.__base=base\n",
        "        self.__height=height\n",
        "    def setBase(self,base):\n",
        "        self.__base=base\n",
        "    def getBase(self):\n",
        "        return self.__base\n",
        "    def setHeight(self,height):\n",
        "        self.__height=height\n",
        "    def getHeight(self):\n",
        "        return self.__height\n",
        "    def __sub__(self,other):\n",
        "        self.__nbase=self.__base-other.__base\n",
        "        self.__nheight=self.__height-other.__height\n",
        "        return Triangle(self.__nbase,self.__nheight)\n",
        "    def area(self):\n",
        "        return (0.5*(self.__base)*(self.__height))\n",
        "\n",
        "t1 = Triangle(10, 5)\n",
        "print(\"First Triangle Base:\" , t1.getBase())\n",
        "print(\"First Triangle Height:\" , t1.getHeight())\n",
        "print(\"First Triangle area:\" ,t1.area())\n",
        "\n",
        "t2 = Triangle(5, 3)\n",
        "print(\"Second Triangle Base:\", t2.getBase())\n",
        "print(\"Second Triangle Height:\", t2.getHeight())\n",
        "print(\"Second Triangle area:\", t2.area())\n",
        "\n",
        "t3 = t1 - t2\n",
        "print(\"Third Triangle Base:\", t3.getBase())\n",
        "print(\"Third Triangle Height:\", t3.getHeight())\n",
        "print(\"Third Triangle area:\", t3.area())\n"
      ]
    },
    {
      "cell_type": "code",
      "execution_count": null,
      "metadata": {
        "colab": {
          "base_uri": "https://localhost:8080/"
        },
        "id": "x6VfZaUfYVBd",
        "outputId": "28241700-d34b-4c52-d745-291c52aaf760"
      },
      "outputs": [
        {
          "name": "stdout",
          "output_type": "stream",
          "text": [
            "Doll: Tweety\n",
            "Total price: 2500taka\n",
            "Thank you!\n",
            "=========================\n",
            "Doll: Daffy Duck\n",
            "Total price: 1800taka\n",
            "Thank you!\n",
            "=========================\n",
            "Doll: Bugs Bunny\n",
            "Total price: 3000taka\n",
            "Congratulations! You get the Tweety as a gift!\n",
            "=========================\n",
            "Doll: Porky Pig\n",
            "Total price: 1500taka\n",
            "Thank you!\n",
            "=========================\n",
            "Doll: Daffy DuckBugs Bunny\n",
            "Total price: 4800taka\n",
            "Congratulations! You get the Tweety as a gift!\n"
          ]
        }
      ],
      "source": [
        "#Task7\n",
        "\n",
        "class Dolls:\n",
        "    def __init__(self,gift,price):\n",
        "        self.gift=gift\n",
        "        self.price=price\n",
        "    def detail(self):\n",
        "        x=f\"Doll: {self.gift}\\nTotal price: {self.price}taka\"\n",
        "        return x\n",
        "    def __gt__(self,other):\n",
        "        if self.price>other.price:\n",
        "            return True\n",
        "        else:\n",
        "            return False\n",
        "    def __add__(self, self2):\n",
        "        self.ngift=self.gift+self2.gift\n",
        "        self.nprice=self.price+self2.price\n",
        "        return Dolls(self.ngift,self.nprice)\n",
        "\n",
        "obj_1 = Dolls(\"Tweety\", 2500)\n",
        "print(obj_1.detail())\n",
        "if obj_1 > obj_1:\n",
        "    print(\"Congratulations! You get the Tweety as a gift!\")\n",
        "else:\n",
        "    print(\"Thank you!\")\n",
        "\n",
        "print(\"=========================\")\n",
        "obj_2 = Dolls(\"Daffy Duck\", 1800)\n",
        "print(obj_2.detail())\n",
        "if obj_2 > obj_1:\n",
        "    print(\"Congratulations! You get the Tweety as a gift!\")\n",
        "else:\n",
        "    print(\"Thank you!\")\n",
        "\n",
        "print(\"=========================\")\n",
        "obj_3 = Dolls(\"Bugs Bunny\", 3000)\n",
        "print(obj_3.detail())\n",
        "if obj_3 > obj_1:\n",
        "    print(\"Congratulations! You get the Tweety as a gift!\")\n",
        "else:\n",
        "    print(\"Thank you!\")\n",
        "\n",
        "print(\"=========================\")\n",
        "obj_4 = Dolls(\"Porky Pig\", 1500)\n",
        "print(obj_4.detail())\n",
        "if obj_4 > obj_1:\n",
        "    print(\"Congratulations! You get the Tweety as a gift!\")\n",
        "else:\n",
        "    print(\"Thank you!\")\n",
        "\n",
        "print(\"=========================\")\n",
        "obj_5 = obj_2 + obj_3\n",
        "print(obj_5.detail())\n",
        "if obj_5 > obj_1:\n",
        "    print(\"Congratulations! You get the Tweety as a gift!\")\n",
        "else:\n",
        "    print(\"Thank you!\")\n"
      ]
    },
    {
      "cell_type": "code",
      "execution_count": null,
      "metadata": {
        "colab": {
          "base_uri": "https://localhost:8080/"
        },
        "id": "xPrA1r4mWlfT",
        "outputId": "33ce4ad2-4359-4f2c-9ec9-bd1f31ef3b05"
      },
      "outputs": [
        {
          "name": "stdout",
          "output_type": "stream",
          "text": [
            "1\n",
            "2\n",
            "3\n",
            "4\n",
            "(-2, -2)\n",
            "(3, 8)\n",
            "The calculated coordinates are not the same\n"
          ]
        }
      ],
      "source": [
        "#Task8\n",
        "\n",
        "\n",
        "class Coordinates:\n",
        "    def __init__(self,x,y):\n",
        "        self.x=x\n",
        "        self.y=y\n",
        "        self.inp=(self.x,self.y)\n",
        "    def __sub__(self,other):\n",
        "        self.nx=self.x-other.x\n",
        "        self.ny=self.y-other.y\n",
        "        return Coordinates(self.nx,self.ny)\n",
        "    def __mul__(self,other):\n",
        "        mul_1=self.x*other.x\n",
        "        mul_2=self.y*other.y\n",
        "        return Coordinates(mul_1,mul_2)\n",
        "    def __eq__(self,other):\n",
        "        if self.x==other.x and self.y==other.y:\n",
        "            return \"The calculated coordinates are the same\"\n",
        "        else:\n",
        "            return \"The calculated coordinates are not the same\"\n",
        "    def detail(self):\n",
        "        return self.inp\n",
        "\n",
        "p1 = Coordinates(int(input()),int(input()))\n",
        "p2 = Coordinates(int(input()),int(input()))\n",
        "\n",
        "p4 = p1 - p2\n",
        "print(p4.detail())\n",
        "\n",
        "p5 = p1 * p2\n",
        "print(p5.detail())\n",
        "\n",
        "point_check = (p4 == p5)\n",
        "print(point_check)\n"
      ]
    }
  ],
  "metadata": {
    "colab": {
      "collapsed_sections": [],
      "provenance": []
    },
    "kernelspec": {
      "display_name": "Python 3",
      "name": "python3"
    },
    "language_info": {
      "name": "python"
    }
  },
  "nbformat": 4,
  "nbformat_minor": 0
}
