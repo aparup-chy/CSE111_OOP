{
  "cells": [
    {
      "cell_type": "markdown",
      "metadata": {},
      "source": [
        "Lab 6 Tasks: https://drive.google.com/file/d/1843mYLQAOY3wLX17RznZwJDwIMguQ1uj/view"
      ]
    },
    {
      "cell_type": "code",
      "execution_count": null,
      "metadata": {
        "colab": {
          "base_uri": "https://localhost:8080/"
        },
        "id": "TuDCyZhOqOBs",
        "outputId": "b1afde7f-9a18-43c5-f5ba-df90c20f4cf9"
      },
      "outputs": [
        {
          "name": "stdout",
          "output_type": "stream",
          "text": [
            "ID: 1\n",
            "Name: Samin\n",
            "Department: CSE\n",
            "Age: 21\n",
            "CGPA: 3.91\n",
            "-----------------------\n",
            "ID: 2\n",
            "Name: Fahim\n",
            "Department: ECE\n",
            "Age: 21\n",
            "CGPA: 3.85\n",
            "-----------------------\n",
            "ID: 3\n",
            "Name: Tahura\n",
            "Department: EEE\n",
            "Age: 22\n",
            "CGPA: 3.01\n",
            "-----------------------\n",
            "ID: 4\n",
            "Name: Sumaiya\n",
            "Department: BBA\n",
            "Age: 23\n",
            "CGPA: 3.96\n"
          ]
        }
      ],
      "source": [
        "#Task1\n",
        "\n",
        "class Student:\n",
        "    c=0\n",
        "    def __init__(self,name,dept,age,cg):\n",
        "        self.name=name\n",
        "        self.dept=dept\n",
        "        self.age=age\n",
        "        self.cg=cg\n",
        "    def get_details(self):\n",
        "        type(self).c+=1\n",
        "        print(f\"ID: {type(self).c}\\nName: {self.name}\\nDepartment: {self.dept}\\nAge: {self.age}\\nCGPA: {self.cg}\")\n",
        "    @classmethod\n",
        "    def from_String(cls,strinfo):\n",
        "        name,dept,age,cg=strinfo.split(\"-\")\n",
        "        return cls(name,dept,age,cg)\n",
        "\n",
        "s1 = Student(\"Samin\", \"CSE\", 21, 3.91)\n",
        "s1.get_details()\n",
        "print(\"-----------------------\")\n",
        "s2 = Student(\"Fahim\", \"ECE\", 21, 3.85)\n",
        "s2.get_details()\n",
        "print(\"-----------------------\")\n",
        "s3 = Student(\"Tahura\", \"EEE\", 22, 3.01)\n",
        "s3.get_details() \n",
        "print(\"-----------------------\")\n",
        "s4 = Student.from_String(\"Sumaiya-BBA-23-3.96\")\n",
        "s4.get_details() \n",
        "\n"
      ]
    },
    {
      "cell_type": "code",
      "execution_count": null,
      "metadata": {
        "colab": {
          "base_uri": "https://localhost:8080/"
        },
        "id": "peXU_EsY64E5",
        "outputId": "0d42fabe-1a27-4ca4-e2a4-8527d33ccd20"
      },
      "outputs": [
        {
          "name": "stdout",
          "output_type": "stream",
          "text": [
            "Name: John Wick\n",
            "Success rate: 100%\n",
            "Total number of Assassin: 1\n",
            "================================\n",
            "Name: Nagisa\n",
            "Success rate: 80%\n",
            "Total number of Assassin: 2\n",
            "================================\n",
            "Name: Akabane\n",
            "Success rate: 90%\n",
            "Total number of Assassin: 3\n"
          ]
        }
      ],
      "source": [
        "#Task2\n",
        "\n",
        "class Assassin:\n",
        "    c=0\n",
        "    def __init__(self,name,srate):\n",
        "        self.name=name\n",
        "        self.srate=srate\n",
        "    def printDetails(self):\n",
        "        type(self).c+=1\n",
        "        print(f\"Name: {self.name}\\nSuccess rate: {self.srate}%\\nTotal number of Assassin: {type(self).c}\")\n",
        "    @classmethod\n",
        "    def failureRate(cls,name,srate):\n",
        "        srate=100-srate\n",
        "        return cls(name,srate)\n",
        "    @classmethod\n",
        "    def failurePercentage(cls,name,srate):\n",
        "        srate=100-int(srate[0:2])\n",
        "        return cls(name,srate)\n",
        "\n",
        "john_wick = Assassin('John Wick', 100)\n",
        "john_wick.printDetails()\n",
        "print('================================')\n",
        "nagisa = Assassin.failureRate(\"Nagisa\", 20)\n",
        "nagisa.printDetails()\n",
        "print('================================')\n",
        "akabane = Assassin.failurePercentage(\"Akabane\", \"10%\")\n",
        "akabane.printDetails()\n",
        "\n"
      ]
    },
    {
      "cell_type": "code",
      "execution_count": null,
      "metadata": {
        "id": "Rx2Z66c6B2Zx"
      },
      "outputs": [],
      "source": [
        "#Task3\n",
        "\n",
        "class Passenger:\n",
        "    Passenger.count=0\n",
        "\n",
        "\n",
        "print(“Total Passenger:”, Passenger.count)\n",
        "p1 = Passenger(“Jack”)\n",
        "p1.set_bag_weight(90)\n",
        "p2 = Passenger(“Carol”)\n",
        "p2.set_bag_weight(10)\n",
        "p3 = Passenger(“Mike”)\n",
        "p3.set_bag_weight(25)\n",
        "print(\"=========================\")\n",
        "p1.printDetail()\n",
        "print(\"=========================\")\n",
        "p2.printDetail()\n",
        "print(\"=========================\")\n",
        "p3.printDetail()\n",
        "print(\"=========================\")\n",
        "print(“Total Passenger:”, Passenger.count)\n",
        "\n"
      ]
    }
  ],
  "metadata": {
    "colab": {
      "collapsed_sections": [],
      "provenance": []
    },
    "kernelspec": {
      "display_name": "Python 3",
      "name": "python3"
    },
    "language_info": {
      "name": "python"
    }
  },
  "nbformat": 4,
  "nbformat_minor": 0
}
